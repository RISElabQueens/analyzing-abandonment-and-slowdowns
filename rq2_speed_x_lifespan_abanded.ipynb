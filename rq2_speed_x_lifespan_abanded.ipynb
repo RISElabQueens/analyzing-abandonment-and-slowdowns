{
 "cells": [
  {
   "cell_type": "code",
   "execution_count": null,
   "metadata": {},
   "outputs": [],
   "source": [
    "import pandas as pd\n",
    "import numpy as np"
   ]
  },
  {
   "cell_type": "code",
   "execution_count": null,
   "metadata": {},
   "outputs": [],
   "source": [
    "abandoned_df = pd.read_csv('abandoned_projects_with_labels.csv')"
   ]
  },
  {
   "cell_type": "code",
   "execution_count": null,
   "metadata": {},
   "outputs": [],
   "source": [
    "# Step 1: Convert 'release_timestamp' to datetime\n",
    "abandoned_df['release_timestamp'] = pd.to_datetime(abandoned_df['release_timestamp'])\n",
    "\n",
    "# Step 2: Create the release rhythm for each artifact (list of release timestamps)\n",
    "rhythm_df = abandoned_df.groupby('artifact_id')['release_timestamp'].apply(list).reset_index()\n",
    "rhythm_df.columns = ['artifact_id', 'release_rhythm']\n",
    "\n",
    "# Step 3: Calculate the speed for each artifact\n",
    "artifact_speed = abandoned_df.groupby('artifact_id').agg(\n",
    "    release_count=('release_id', 'size'),\n",
    "    first_release=('release_timestamp', 'min'),\n",
    "    last_release=('release_timestamp', 'max')\n",
    ").reset_index()\n",
    "\n",
    "# Calculate the time interval (in months) between the first and last release\n",
    "artifact_speed['months_interval'] = ((artifact_speed['last_release'].dt.year - artifact_speed['first_release'].dt.year) * 12 +\n",
    "                                     (artifact_speed['last_release'].dt.month - artifact_speed['first_release'].dt.month))\n",
    "\n",
    "# Avoid division by zero (when there's only one release, set the interval to 1 month)\n",
    "artifact_speed['months_interval'] = artifact_speed['months_interval'].replace(0, 1)\n",
    "\n",
    "# Calculate speed (releases per month)\n",
    "artifact_speed['speed'] = artifact_speed['release_count'] / artifact_speed['months_interval']\n",
    "\n",
    "# Step 4: Merge release rhythm and speed\n",
    "df_with_features = pd.merge(rhythm_df, artifact_speed[['artifact_id', 'release_count', 'speed']], on='artifact_id')\n",
    "\n",
    "# Display the final DataFrame\n",
    "df_with_features\n"
   ]
  },
  {
   "cell_type": "code",
   "execution_count": null,
   "metadata": {},
   "outputs": [],
   "source": [
    "# Merge release rhythm and speed along with months_interval\n",
    "df_with_features = pd.merge(\n",
    "    rhythm_df, \n",
    "    artifact_speed[['artifact_id', 'release_count', 'speed', 'months_interval']], \n",
    "    on='artifact_id'\n",
    ")\n",
    "\n",
    "# Display the final DataFrame\n",
    "df_with_features\n"
   ]
  },
  {
   "cell_type": "code",
   "execution_count": null,
   "metadata": {},
   "outputs": [],
   "source": [
    "df_with_features.describe()"
   ]
  },
  {
   "cell_type": "code",
   "execution_count": null,
   "metadata": {},
   "outputs": [],
   "source": [
    "# Calculate lifespan of projects in years\n",
    "df_with_features['lifespan_years'] = df_with_features['months_interval'] / 12\n",
    "\n",
    "# Bin speed into categories\n",
    "speed_bins = [-np.inf, 1, 2, np.inf]\n",
    "speed_labels = ['<1', '1-2', '>2']\n",
    "df_with_features['speed_category'] = pd.cut(df_with_features['speed'], bins=speed_bins, labels=speed_labels)\n",
    "\n",
    "# Bin lifespan into categories\n",
    "lifespan_bins = [0, 1, 2, np.inf]\n",
    "lifespan_labels = ['<1 year', '1-2 years', '>2 years']\n",
    "df_with_features['lifespan_category'] = pd.cut(df_with_features['lifespan_years'], bins=lifespan_bins, labels=lifespan_labels)\n",
    "\n",
    "# Create crosstab\n",
    "crosstab = pd.crosstab(df_with_features['speed_category'], df_with_features['lifespan_category'],margins=True, margins_name='Total')\n",
    "crosstab"
   ]
  },
  {
   "cell_type": "code",
   "execution_count": null,
   "metadata": {},
   "outputs": [],
   "source": [
    "# Create crosstab with totals\n",
    "crosstab_with_totals = pd.crosstab(\n",
    "    df_with_features['speed_category'], \n",
    "    df_with_features['lifespan_category'],\n",
    "    margins=True,  # Add totals row and column\n",
    "    margins_name=\"Total\"\n",
    ")\n",
    "\n",
    "# Calculate percentage of each cell with respect to the grand total\n",
    "crosstab_percent = (crosstab_with_totals / crosstab_with_totals.loc[\"Total\", \"Total\"]) * 100\n",
    "crosstab_percent\n",
    "\n",
    "#abandoend"
   ]
  },
  {
   "cell_type": "code",
   "execution_count": null,
   "metadata": {},
   "outputs": [],
   "source": [
    "df_with_features"
   ]
  },
  {
   "cell_type": "code",
   "execution_count": null,
   "metadata": {},
   "outputs": [],
   "source": []
  }
 ],
 "metadata": {
  "kernelspec": {
   "display_name": "Python 3",
   "language": "python",
   "name": "python3"
  },
  "language_info": {
   "codemirror_mode": {
    "name": "ipython",
    "version": 3
   },
   "file_extension": ".py",
   "mimetype": "text/x-python",
   "name": "python",
   "nbconvert_exporter": "python",
   "pygments_lexer": "ipython3",
   "version": "3.10.7"
  }
 },
 "nbformat": 4,
 "nbformat_minor": 2
}
